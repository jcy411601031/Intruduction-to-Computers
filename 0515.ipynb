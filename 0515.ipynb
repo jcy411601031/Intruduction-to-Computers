{
  "nbformat": 4,
  "nbformat_minor": 0,
  "metadata": {
    "colab": {
      "provenance": [],
      "authorship_tag": "ABX9TyN7YE18C2Pdm/7KNfOGxYVm",
      "include_colab_link": true
    },
    "kernelspec": {
      "name": "python3",
      "display_name": "Python 3"
    },
    "language_info": {
      "name": "python"
    }
  },
  "cells": [
    {
      "cell_type": "markdown",
      "metadata": {
        "id": "view-in-github",
        "colab_type": "text"
      },
      "source": [
        "<a href=\"https://colab.research.google.com/github/jcy411601031/Intruduction-to-Computers/blob/main/0515.ipynb\" target=\"_parent\"><img src=\"https://colab.research.google.com/assets/colab-badge.svg\" alt=\"Open In Colab\"/></a>"
      ]
    },
    {
      "cell_type": "code",
      "execution_count": 1,
      "metadata": {
        "colab": {
          "base_uri": "https://localhost:8080/"
        },
        "id": "LUcT6hcIQu5v",
        "outputId": "09789386-b0d1-4753-d6c6-f297edc0241f"
      },
      "outputs": [
        {
          "output_type": "stream",
          "name": "stdout",
          "text": [
            "0515\n"
          ]
        }
      ],
      "source": [
        "print(\"0515\")"
      ]
    },
    {
      "cell_type": "code",
      "source": [
        "rain = str(input(\"今天會下雨嗎?:\"))\n",
        "if(rain == \"Y\" or rain == \"y\"):\n",
        "  print(\"出門記得帶傘!\")"
      ],
      "metadata": {
        "colab": {
          "base_uri": "https://localhost:8080/"
        },
        "id": "AQp-p95xQ4iq",
        "outputId": "8719b342-287c-44ee-bcd5-37ed3751c03a"
      },
      "execution_count": 1,
      "outputs": [
        {
          "output_type": "stream",
          "name": "stdout",
          "text": [
            "今天會下雨嗎?:Y\n",
            "出門記得帶傘!\n"
          ]
        }
      ]
    },
    {
      "cell_type": "code",
      "source": [
        "體溫 = int(input(\"請輸入體溫:\"))\n",
        "if 體溫 >= 37.5 :\n",
        " print(\"體溫過高!\")\n",
        "elif (體溫 >= 37 and 體溫 <= 37.4) :\n",
        " print(\"體溫略高!\")\n",
        "elif (體溫 >= 34 and 體溫 <= 36.9) :\n",
        " print(\"體溫正常!\")\n",
        "else :\n",
        " print(\"體溫異常,請重新測量!\")"
      ],
      "metadata": {
        "colab": {
          "base_uri": "https://localhost:8080/"
        },
        "id": "lkq4QQEaTfvG",
        "outputId": "e182cc03-7252-4020-e185-f64801d72bdc"
      },
      "execution_count": 19,
      "outputs": [
        {
          "output_type": "stream",
          "name": "stdout",
          "text": [
            "請輸入體溫:45\n",
            "體溫過高!\n"
          ]
        }
      ]
    },
    {
      "cell_type": "code",
      "source": [
        "成績 = int(input(\"請輸入成績:\"))\n",
        "if (成績 >= 90) :\n",
        " print(\"A\")\n",
        "elif (成績 >= 80 and 成績 <= 90) :\n",
        " print(\"B\")\n",
        "elif (成績 >= 70 and 成績 <= 79) :\n",
        " print(\"C\")\n",
        "elif (成績 >= 60 and 成績 <= 69) :\n",
        " print(\"D\")\n",
        "else :\n",
        " print(\"E\")"
      ],
      "metadata": {
        "colab": {
          "base_uri": "https://localhost:8080/"
        },
        "id": "iOl4ZwfY1qTu",
        "outputId": "e90c794c-c8b2-4863-e0fe-da2f2c2e76c1"
      },
      "execution_count": 18,
      "outputs": [
        {
          "output_type": "stream",
          "name": "stdout",
          "text": [
            "請輸入成績:120\n",
            "A\n"
          ]
        }
      ]
    },
    {
      "cell_type": "code",
      "source": [
        "month = int(input(\"請輸入月份:\"))\n",
        "if(1 <= month <= 3):\n",
        "  print(str(month) + \" 月是春天\")\n",
        "elif(4 <= month <= 6):\n",
        "  print(str(month) + \" 月是夏天\")\n",
        "elif(7 <= month <= 9):\n",
        "  print(str(month) + \" 月是秋天\")\n",
        "elif(10 <= month <= 12):\n",
        "  print(str(month) + \" 月是冬天\")\n",
        "else:\n",
        "  print(\"這個月份不在範圍內哦!\")"
      ],
      "metadata": {
        "colab": {
          "base_uri": "https://localhost:8080/"
        },
        "id": "6cD3RtDN7uGN",
        "outputId": "a0fdebbd-f1cc-4dd7-8eb4-80b187a120f4"
      },
      "execution_count": 15,
      "outputs": [
        {
          "output_type": "stream",
          "name": "stdout",
          "text": [
            "請輸入月份:12\n",
            "12 月是冬天\n"
          ]
        }
      ]
    },
    {
      "cell_type": "code",
      "source": [
        "使用者收入 = int(input(\"請輸入金額:\"))\n",
        "if(使用者收入 >= 2000000):\n",
        "  print(\"稅率 = 0.3\")\n",
        "elif(使用者收入 >= 1000000):\n",
        "  print(\"稅率 = 0.21\")\n",
        "elif(使用者收入 >= 600000):\n",
        "  print(\"稅率 = 0.13\")\n",
        "elif(使用者收入 >= 300000):\n",
        "  print(\"稅率 = 0.06\")"
      ],
      "metadata": {
        "colab": {
          "base_uri": "https://localhost:8080/"
        },
        "id": "y6KYqIYi_pPv",
        "outputId": "04cfbf63-75ff-4c44-b3de-50aab0b9130c"
      },
      "execution_count": 22,
      "outputs": [
        {
          "output_type": "stream",
          "name": "stdout",
          "text": [
            "請輸入金額:300000\n",
            "稅率 = 0.06\n"
          ]
        }
      ]
    }
  ]
}