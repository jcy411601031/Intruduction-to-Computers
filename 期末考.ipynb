{
  "nbformat": 4,
  "nbformat_minor": 0,
  "metadata": {
    "colab": {
      "provenance": [],
      "authorship_tag": "ABX9TyPsKMAQMANNSgNzENZelXeM",
      "include_colab_link": true
    },
    "kernelspec": {
      "name": "python3",
      "display_name": "Python 3"
    },
    "language_info": {
      "name": "python"
    }
  },
  "cells": [
    {
      "cell_type": "markdown",
      "metadata": {
        "id": "view-in-github",
        "colab_type": "text"
      },
      "source": [
        "<a href=\"https://colab.research.google.com/github/jcy411601031/Intruduction-to-Computers/blob/main/%E6%9C%9F%E6%9C%AB%E8%80%83.ipynb\" target=\"_parent\"><img src=\"https://colab.research.google.com/assets/colab-badge.svg\" alt=\"Open In Colab\"/></a>"
      ]
    },
    {
      "cell_type": "code",
      "execution_count": null,
      "metadata": {
        "colab": {
          "base_uri": "https://localhost:8080/"
        },
        "id": "4vBD0tOnJzko",
        "outputId": "77b45228-9077-4641-f626-76ed3e117be4"
      },
      "outputs": [
        {
          "output_type": "stream",
          "name": "stdout",
          "text": [
            "5050\n"
          ]
        }
      ],
      "source": [
        "sum = 0\n",
        "for number in range(1, 101):\n",
        " sum += number\n",
        "print(sum)"
      ]
    },
    {
      "cell_type": "code",
      "source": [
        "sum = 0\n",
        "for number in range (1, 101):\n",
        "  sum += number\n",
        "print(sum)"
      ],
      "metadata": {
        "colab": {
          "base_uri": "https://localhost:8080/"
        },
        "id": "KYaGzxf8ZF7y",
        "outputId": "fb8d97b6-107c-4aa8-aaf3-ba476381d84c"
      },
      "execution_count": 20,
      "outputs": [
        {
          "output_type": "stream",
          "name": "stdout",
          "text": [
            "5050\n"
          ]
        }
      ]
    },
    {
      "cell_type": "code",
      "source": [
        "num = int(input())\n",
        "if num >= 0 :\n",
        "  if (num % 2) == 0 :\n",
        "    print(num,\"is even\")\n",
        "  elif (num % 2) :\n",
        "    print(num,\"is odd\")\n",
        "else :\n",
        "  print(\"Input Error\")"
      ],
      "metadata": {
        "colab": {
          "base_uri": "https://localhost:8080/"
        },
        "id": "DRSarv2ler53",
        "outputId": "55e7ca6d-c6a2-42c4-979d-1d0f4a2a41e2"
      },
      "execution_count": 1,
      "outputs": [
        {
          "output_type": "stream",
          "name": "stdout",
          "text": [
            "50\n",
            "50 is even\n"
          ]
        }
      ]
    },
    {
      "cell_type": "code",
      "source": [
        "num = int(input())\n",
        "if num >= 0 :\n",
        "  if (num % 2) == 0 :\n",
        "    print(num, \"is even\")\n",
        "  elif (num % 2) :\n",
        "    print(num, \"is odd\")\n",
        "else :\n",
        "  print(\"Input Error\")"
      ],
      "metadata": {
        "colab": {
          "base_uri": "https://localhost:8080/"
        },
        "id": "R677behzZz71",
        "outputId": "23e623ae-bc36-4c9a-af0d-e1ecd2cdf7c2"
      },
      "execution_count": 21,
      "outputs": [
        {
          "output_type": "stream",
          "name": "stdout",
          "text": [
            "0\n",
            "0 is even\n"
          ]
        }
      ]
    },
    {
      "cell_type": "code",
      "source": [
        "N = int(input())\n",
        "if N >= 0 :\n",
        "  print(100000 * 1.03 ** N)\n",
        "else :\n",
        "  print(\"Input Error\")"
      ],
      "metadata": {
        "colab": {
          "base_uri": "https://localhost:8080/"
        },
        "id": "8cqMBUpqeG4w",
        "outputId": "b59dbe5e-6b58-4e32-80b5-bc1c1d194180"
      },
      "execution_count": 10,
      "outputs": [
        {
          "output_type": "stream",
          "name": "stdout",
          "text": [
            "-2\n",
            "Input Error\n"
          ]
        }
      ]
    },
    {
      "cell_type": "code",
      "source": [
        "N = int(input())\n",
        "if N >= 0 :\n",
        "  print(100000 * 1.03 ** N)\n",
        "else :\n",
        "  print(\"Input Error\")"
      ],
      "metadata": {
        "colab": {
          "base_uri": "https://localhost:8080/"
        },
        "id": "5ZkiZOQgXaBg",
        "outputId": "5e8b7177-f64c-4333-f20a-1b9d5fe7a37f"
      },
      "execution_count": 22,
      "outputs": [
        {
          "output_type": "stream",
          "name": "stdout",
          "text": [
            "1\n",
            "103000.0\n"
          ]
        }
      ]
    },
    {
      "cell_type": "code",
      "source": [
        "n = int(input())\n",
        "for i in range(1, n+1):\n",
        "  if n%i == 0:\n",
        "    print(i, end=\" \")"
      ],
      "metadata": {
        "colab": {
          "base_uri": "https://localhost:8080/"
        },
        "id": "ZUWhaaMYh213",
        "outputId": "8c5cf723-473c-4842-d35f-f91baff7b8e2"
      },
      "execution_count": 30,
      "outputs": [
        {
          "output_type": "stream",
          "name": "stdout",
          "text": [
            "520\n",
            "1 2 4 5 8 10 13 20 26 40 52 65 104 130 260 520 "
          ]
        }
      ]
    },
    {
      "cell_type": "code",
      "source": [
        "n = int(input())\n",
        "for i in range (1, n+1):\n",
        "  if n%i == 0 :\n",
        "    print(i, end = \" \")"
      ],
      "metadata": {
        "colab": {
          "base_uri": "https://localhost:8080/"
        },
        "id": "eGE_xi1kowio",
        "outputId": "0a44ae39-1211-4291-b497-e9353cd32b86"
      },
      "execution_count": 34,
      "outputs": [
        {
          "output_type": "stream",
          "name": "stdout",
          "text": [
            "520\n",
            "1 2 4 5 8 10 13 20 26 40 52 65 104 130 260 520 "
          ]
        }
      ]
    }
  ]
}